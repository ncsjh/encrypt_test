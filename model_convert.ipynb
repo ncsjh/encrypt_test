{
 "cells": [
  {
   "cell_type": "code",
   "execution_count": 2,
   "id": "db9fe0ea",
   "metadata": {},
   "outputs": [],
   "source": [
    "import tensorflow as tf\n",
    "import os"
   ]
  },
  {
   "cell_type": "markdown",
   "id": "faa8c7d5",
   "metadata": {},
   "source": [
    "### .h5 -> pb"
   ]
  },
  {
   "cell_type": "code",
   "execution_count": null,
   "id": "cf7eb65a",
   "metadata": {},
   "outputs": [],
   "source": [
    "h5_path=''\n",
    "model=tf.keras.models.load_model(h5_path, compile=False)\n",
    "pb_path='./pb'\n",
    "model.save(pb_path, save_format='tf')"
   ]
  },
  {
   "cell_type": "code",
   "execution_count": null,
   "id": "564ccd1d",
   "metadata": {},
   "outputs": [],
   "source": []
  },
  {
   "cell_type": "markdown",
   "id": "ab026171",
   "metadata": {},
   "source": [
    "### pb -> tflite"
   ]
  },
  {
   "cell_type": "code",
   "execution_count": null,
   "id": "a853bd2a",
   "metadata": {},
   "outputs": [],
   "source": [
    "converter=tf.lite.TFLiteConverter.from_saved_model(pb_path)\n",
    "converter.target_spect_spec.supported_ops=[tf.lite.OpsSet.TFLITE_BUILTINS,\n",
    "                                           tf.lite.OpsSet.SELECT_TF_OPS]\n",
    "tflite_model=converter.convert()\n",
    "open('./tf/converted_model.tflite', 'wb').write(tflite_model)"
   ]
  },
  {
   "cell_type": "code",
   "execution_count": null,
   "id": "b09f2862",
   "metadata": {},
   "outputs": [],
   "source": []
  },
  {
   "cell_type": "code",
   "execution_count": null,
   "id": "b27bf414",
   "metadata": {},
   "outputs": [],
   "source": []
  },
  {
   "cell_type": "code",
   "execution_count": null,
   "id": "1955b5d6",
   "metadata": {},
   "outputs": [],
   "source": []
  },
  {
   "cell_type": "code",
   "execution_count": null,
   "id": "52996230",
   "metadata": {},
   "outputs": [],
   "source": []
  }
 ],
 "metadata": {
  "kernelspec": {
   "display_name": "Python 3.9.12 ('base')",
   "language": "python",
   "name": "python3"
  },
  "language_info": {
   "codemirror_mode": {
    "name": "ipython",
    "version": 3
   },
   "file_extension": ".py",
   "mimetype": "text/x-python",
   "name": "python",
   "nbconvert_exporter": "python",
   "pygments_lexer": "ipython3",
   "version": "3.9.12"
  },
  "vscode": {
   "interpreter": {
    "hash": "f08154012ddadd8e950e6e9e035c7a7b32c136e7647e9b7c77e02eb723a8bedb"
   }
  }
 },
 "nbformat": 4,
 "nbformat_minor": 5
}
