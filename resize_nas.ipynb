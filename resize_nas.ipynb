{
 "cells": [
  {
   "cell_type": "code",
   "execution_count": 4,
   "metadata": {
    "id": "sP6vmNM_WmXO"
   },
   "outputs": [],
   "source": [
    "import os\n",
    "import shutil\n",
    "import numpy as np\n",
    "from glob import glob\n",
    "import tensorflow as tf\n",
    "from PIL import Image, ImageFile\n",
    "ImageFile.LOAD_TRUNCATED_IMAGES = True"
   ]
  },
  {
   "cell_type": "code",
   "execution_count": 5,
   "metadata": {},
   "outputs": [
    {
     "ename": "NameError",
     "evalue": "name '__file__' is not defined",
     "output_type": "error",
     "traceback": [
      "\u001b[1;31m---------------------------------------------------------------------------\u001b[0m",
      "\u001b[1;31mNameError\u001b[0m                                 Traceback (most recent call last)",
      "Input \u001b[1;32mIn [5]\u001b[0m, in \u001b[0;36m<cell line: 1>\u001b[1;34m()\u001b[0m\n\u001b[1;32m----> 1\u001b[0m HERE\u001b[38;5;241m=\u001b[39mos\u001b[38;5;241m.\u001b[39mpath\u001b[38;5;241m.\u001b[39mdirname(os\u001b[38;5;241m.\u001b[39mpath\u001b[38;5;241m.\u001b[39mabspath(\u001b[38;5;18;43m__file__\u001b[39;49m))\n",
      "\u001b[1;31mNameError\u001b[0m: name '__file__' is not defined"
     ]
    }
   ],
   "source": [
    "HERE=os.path.dirname(os.path.abspath(__file__))"
   ]
  },
  {
   "cell_type": "code",
   "execution_count": 7,
   "metadata": {},
   "outputs": [],
   "source": [
    "def extCls(dir) -> list[str]:\n",
    "    classes=os.listdir(HERE)\n",
    "    classes.remove('resize_nas.py')\n",
    "    return classes "
   ]
  },
  {
   "cell_type": "markdown",
   "metadata": {},
   "source": [
    "cls=os.listdir(HERE)\n",
    "cls.remove('resize_nas.py')"
   ]
  },
  {
   "cell_type": "code",
   "execution_count": null,
   "metadata": {},
   "outputs": [],
   "source": [
    "def resize(cls : list) :\n",
    "    for cl in cls:\n",
    "    path=f'./Training/{cl}/'\n",
    "    print(f'경로 : {path}')\n",
    "    print(f'{cl} 폴더 내 파일 불러오기')\n",
    "    li=os.listdir(path)\n",
    "    print(f'{cl} 폴더 내 파일 리사이즈 시작')\n",
    "    w=len(li)\n",
    "    c=0\n",
    "    for file in li:\n",
    "        try:\n",
    "            c+=1\n",
    "            print('\\r', int(c/w*100),'%', '  ', c,'/',w, file, end='')\n",
    "            dest=path+file\n",
    "            img=Image.open(dest)\n",
    "            img=img.resize((600,600))\n",
    "            img.save(dest)\n",
    "        except:\n",
    "            print(file, ' 파일에서 문제가 발생했습니다.')\n",
    "            print('\\r', int(c/w*100),'%', '  ', c,'/',w, file, end='')"
   ]
  },
  {
   "cell_type": "markdown",
   "metadata": {
    "colab": {
     "background_save": true,
     "base_uri": "https://localhost:8080/"
    },
    "id": "kU0ugjLPWqxJ"
   },
   "source": [
    "for cl in cls:\n",
    "    path=f'./Training/{cl}/'\n",
    "    print(f'경로 : {path}')\n",
    "    print(f'{cl} 폴더 내 파일 불러오기')\n",
    "    li=os.listdir(path)\n",
    "    print(f'{cl} 폴더 내 파일 리사이즈 시작')\n",
    "    w=len(li)\n",
    "    c=0\n",
    "    for file in li:\n",
    "        try:\n",
    "            c+=1\n",
    "            print('\\r', int(c/w*100),'%', '  ', c,'/',w, file, end='')\n",
    "            dest=path+file\n",
    "            img=Image.open(dest)\n",
    "            img=img.resize((600,600))\n",
    "            img.save(dest)\n",
    "        except:\n",
    "            print(file, ' 파일에서 문제가 발생했습니다.')\n",
    "            print('\\r', int(c/w*100),'%', '  ', c,'/',w, file, end='')\n"
   ]
  },
  {
   "cell_type": "code",
   "execution_count": 8,
   "metadata": {
    "colab": {
     "base_uri": "https://localhost:8080/"
    },
    "executionInfo": {
     "elapsed": 2,
     "status": "ok",
     "timestamp": 1657585222344,
     "user": {
      "displayName": "인비즈",
      "userId": "14842033852642997881"
     },
     "user_tz": -540
    },
    "id": "ubcvskxXWq5H",
    "outputId": "a6981828-1141-45b0-ceca-20e3f1372e15"
   },
   "outputs": [],
   "source": []
  },
  {
   "cell_type": "code",
   "execution_count": 9,
   "metadata": {
    "colab": {
     "base_uri": "https://localhost:8080/"
    },
    "executionInfo": {
     "elapsed": 2,
     "status": "ok",
     "timestamp": 1657583682399,
     "user": {
      "displayName": "인비즈",
      "userId": "14842033852642997881"
     },
     "user_tz": -540
    },
    "id": "271FUXwmWq5o",
    "outputId": "79065e41-e8f2-4597-dc32-9d24a3d73ec6"
   },
   "outputs": [
    {
     "ename": "FileNotFoundError",
     "evalue": "[Errno 2] No such file or directory: 'base.yaml'",
     "output_type": "error",
     "traceback": [
      "\u001b[1;31m---------------------------------------------------------------------------\u001b[0m",
      "\u001b[1;31mFileNotFoundError\u001b[0m                         Traceback (most recent call last)",
      "Input \u001b[1;32mIn [9]\u001b[0m, in \u001b[0;36m<cell line: 1>\u001b[1;34m()\u001b[0m\n\u001b[1;32m----> 1\u001b[0m \u001b[38;5;28;01mwith\u001b[39;00m \u001b[38;5;28;43mopen\u001b[39;49m\u001b[43m(\u001b[49m\u001b[38;5;124;43m'\u001b[39;49m\u001b[38;5;124;43mbase.yaml\u001b[39;49m\u001b[38;5;124;43m'\u001b[39;49m\u001b[43m)\u001b[49m \u001b[38;5;28;01mas\u001b[39;00m f:\n\u001b[0;32m      2\u001b[0m     conf\u001b[38;5;241m=\u001b[39myaml\u001b[38;5;241m.\u001b[39mload(f)\n",
      "\u001b[1;31mFileNotFoundError\u001b[0m: [Errno 2] No such file or directory: 'base.yaml'"
     ]
    }
   ],
   "source": []
  },
  {
   "cell_type": "code",
   "execution_count": 10,
   "metadata": {
    "colab": {
     "base_uri": "https://localhost:8080/"
    },
    "executionInfo": {
     "elapsed": 4903,
     "status": "ok",
     "timestamp": 1657583925732,
     "user": {
      "displayName": "인비즈",
      "userId": "14842033852642997881"
     },
     "user_tz": -540
    },
    "id": "Nel2UfTSWq6J",
    "outputId": "258e1920-9b1d-4316-b4d3-8f9c30c77fde"
   },
   "outputs": [
    {
     "name": "stderr",
     "output_type": "stream",
     "text": [
      "'ls'은(는) 내부 또는 외부 명령, 실행할 수 있는 프로그램, 또는\n",
      "배치 파일이 아닙니다.\n"
     ]
    }
   ],
   "source": [
    "!dir\n"
   ]
  },
  {
   "cell_type": "code",
   "execution_count": null,
   "metadata": {
    "colab": {
     "base_uri": "https://localhost:8080/"
    },
    "executionInfo": {
     "elapsed": 7590,
     "status": "ok",
     "timestamp": 1657583900472,
     "user": {
      "displayName": "인비즈",
      "userId": "14842033852642997881"
     },
     "user_tz": -540
    },
    "id": "39B5f0hpWq7W",
    "outputId": "5809e667-a524-4ef6-ad3e-e34fa23ed4b4"
   },
   "outputs": [
    {
     "name": "stdout",
     "output_type": "stream",
     "text": [
      " 1"
     ]
    }
   ],
   "source": []
  },
  {
   "cell_type": "code",
   "execution_count": null,
   "metadata": {
    "id": "c6k-YQ0LWq71"
   },
   "outputs": [],
   "source": []
  },
  {
   "cell_type": "code",
   "execution_count": null,
   "metadata": {
    "id": "sNLhzaqMWq8Q"
   },
   "outputs": [],
   "source": []
  },
  {
   "cell_type": "code",
   "execution_count": null,
   "metadata": {
    "id": "Kdr2g-VrWq8w"
   },
   "outputs": [],
   "source": []
  },
  {
   "cell_type": "code",
   "execution_count": null,
   "metadata": {
    "id": "RwslRuY_Wq9N"
   },
   "outputs": [],
   "source": []
  },
  {
   "cell_type": "code",
   "execution_count": null,
   "metadata": {
    "id": "rD2cGI0bWq9q"
   },
   "outputs": [],
   "source": []
  },
  {
   "cell_type": "code",
   "execution_count": null,
   "metadata": {
    "id": "EdVA44L0Wq-O"
   },
   "outputs": [],
   "source": []
  },
  {
   "cell_type": "code",
   "execution_count": null,
   "metadata": {
    "id": "NX4ctZzqWq-3"
   },
   "outputs": [],
   "source": []
  },
  {
   "cell_type": "code",
   "execution_count": null,
   "metadata": {
    "id": "VrS7xZ1DWq_h"
   },
   "outputs": [],
   "source": []
  },
  {
   "cell_type": "code",
   "execution_count": null,
   "metadata": {
    "id": "7ABOgvVUWq__"
   },
   "outputs": [],
   "source": []
  },
  {
   "cell_type": "code",
   "execution_count": null,
   "metadata": {
    "id": "jNRqucf_WrAb"
   },
   "outputs": [],
   "source": []
  },
  {
   "cell_type": "code",
   "execution_count": null,
   "metadata": {
    "id": "46rIIT1hWrA7"
   },
   "outputs": [],
   "source": []
  },
  {
   "cell_type": "code",
   "execution_count": null,
   "metadata": {
    "id": "y0CK3spcWrBd"
   },
   "outputs": [],
   "source": []
  }
 ],
 "metadata": {
  "colab": {
   "authorship_tag": "ABX9TyPmXDH0o9OK1tMNKgj6+0Ww",
   "background_execution": "on",
   "machine_shape": "hm",
   "mount_file_id": "15T8JhFeNSpdE2U7SNwI510GfHSCrIUxP",
   "name": "resize_only.ipynb",
   "version": ""
  },
  "gpuClass": "standard",
  "kernelspec": {
   "display_name": "Python 3.9.12 ('base')",
   "language": "python",
   "name": "python3"
  },
  "language_info": {
   "codemirror_mode": {
    "name": "ipython",
    "version": 3
   },
   "file_extension": ".py",
   "mimetype": "text/x-python",
   "name": "python",
   "nbconvert_exporter": "python",
   "pygments_lexer": "ipython3",
   "version": "3.9.12"
  },
  "vscode": {
   "interpreter": {
    "hash": "f08154012ddadd8e950e6e9e035c7a7b32c136e7647e9b7c77e02eb723a8bedb"
   }
  }
 },
 "nbformat": 4,
 "nbformat_minor": 1
}
