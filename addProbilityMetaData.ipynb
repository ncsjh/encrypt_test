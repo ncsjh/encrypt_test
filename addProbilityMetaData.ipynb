{
 "cells": [
  {
   "cell_type": "code",
   "execution_count": 1,
   "metadata": {
    "colab": {
     "base_uri": "https://localhost:8080/",
     "height": 660
    },
    "executionInfo": {
     "elapsed": 16893,
     "status": "ok",
     "timestamp": 1657593110994,
     "user": {
      "displayName": "인비즈",
      "userId": "14842033852642997881"
     },
     "user_tz": -540
    },
    "id": "rVHSFnU0PsxB",
    "outputId": "d204dc41-4eed-4aec-abbd-68ecdce2a873"
   },
   "outputs": [
    {
     "name": "stdout",
     "output_type": "stream",
     "text": [
      "Looking in indexes: https://pypi.org/simple, https://us-python.pkg.dev/colab-wheels/public/simple/\n",
      "Collecting tflite-support\n",
      "  Downloading tflite_support-0.4.1-cp37-cp37m-manylinux2014_x86_64.whl (42.5 MB)\n",
      "\u001b[K     |████████████████████████████████| 42.5 MB 1.3 MB/s \n",
      "\u001b[?25hCollecting pybind11>=2.6.0\n",
      "  Downloading pybind11-2.9.2-py2.py3-none-any.whl (213 kB)\n",
      "\u001b[K     |████████████████████████████████| 213 kB 33.8 MB/s \n",
      "\u001b[?25hCollecting flatbuffers<2,>=1.12\n",
      "  Downloading flatbuffers-1.12-py2.py3-none-any.whl (15 kB)\n",
      "Collecting sounddevice>=0.4.4\n",
      "  Downloading sounddevice-0.4.4-py3-none-any.whl (31 kB)\n",
      "Requirement already satisfied: absl-py>=0.7.0 in /usr/local/lib/python3.7/dist-packages (from tflite-support) (1.1.0)\n",
      "Collecting protobuf<4,>=3.18.0\n",
      "  Downloading protobuf-3.20.1-cp37-cp37m-manylinux_2_5_x86_64.manylinux1_x86_64.whl (1.0 MB)\n",
      "\u001b[K     |████████████████████████████████| 1.0 MB 56.2 MB/s \n",
      "\u001b[?25hRequirement already satisfied: numpy>=1.20.0 in /usr/local/lib/python3.7/dist-packages (from tflite-support) (1.21.6)\n",
      "Requirement already satisfied: CFFI>=1.0 in /usr/local/lib/python3.7/dist-packages (from sounddevice>=0.4.4->tflite-support) (1.15.0)\n",
      "Requirement already satisfied: pycparser in /usr/local/lib/python3.7/dist-packages (from CFFI>=1.0->sounddevice>=0.4.4->tflite-support) (2.21)\n",
      "Installing collected packages: sounddevice, pybind11, protobuf, flatbuffers, tflite-support\n",
      "  Attempting uninstall: protobuf\n",
      "    Found existing installation: protobuf 3.17.3\n",
      "    Uninstalling protobuf-3.17.3:\n",
      "      Successfully uninstalled protobuf-3.17.3\n",
      "  Attempting uninstall: flatbuffers\n",
      "    Found existing installation: flatbuffers 2.0\n",
      "    Uninstalling flatbuffers-2.0:\n",
      "      Successfully uninstalled flatbuffers-2.0\n",
      "\u001b[31mERROR: pip's dependency resolver does not currently take into account all the packages that are installed. This behaviour is the source of the following dependency conflicts.\n",
      "tensorflow 2.8.2+zzzcolab20220527125636 requires protobuf<3.20,>=3.9.2, but you have protobuf 3.20.1 which is incompatible.\u001b[0m\n",
      "Successfully installed flatbuffers-1.12 protobuf-3.20.1 pybind11-2.9.2 sounddevice-0.4.4 tflite-support-0.4.1\n"
     ]
    },
    {
     "data": {
      "application/vnd.colab-display-data+json": {
       "pip_warning": {
        "packages": [
         "google"
        ]
       }
      }
     },
     "metadata": {},
     "output_type": "display_data"
    }
   ],
   "source": [
    "# 메타 데이터 도구 패키기 설치\n",
    "!pip install tflite-support"
   ]
  },
  {
   "cell_type": "code",
   "execution_count": 2,
   "metadata": {},
   "outputs": [
    {
     "name": "stdout",
     "output_type": "stream",
     "text": [
      "\n",
      "     active environment : base\n",
      "    active env location : C:\\Users\\user\\anaconda3\n",
      "            shell level : 1\n",
      "       user config file : C:\\Users\\user\\.condarc\n",
      " populated config files : C:\\Users\\user\\.condarc\n",
      "          conda version : 4.13.0\n",
      "    conda-build version : 3.21.9\n",
      "         python version : 3.9.12.final.0\n",
      "       virtual packages : __cuda=11.7=0\n",
      "                          __win=0=0\n",
      "                          __archspec=1=x86_64\n",
      "       base environment : C:\\Users\\user\\anaconda3  (writable)\n",
      "      conda av data dir : C:\\Users\\user\\anaconda3\\etc\\conda\n",
      "  conda av metadata url : None\n",
      "           channel URLs : https://conda.anaconda.org/deep/win-64\n",
      "                          https://conda.anaconda.org/deep/noarch\n",
      "                          https://repo.anaconda.com/pkgs/main/win-64\n",
      "                          https://repo.anaconda.com/pkgs/main/noarch\n",
      "                          https://repo.anaconda.com/pkgs/r/win-64\n",
      "                          https://repo.anaconda.com/pkgs/r/noarch\n",
      "                          https://repo.anaconda.com/pkgs/msys2/win-64\n",
      "                          https://repo.anaconda.com/pkgs/msys2/noarch\n",
      "                          https://conda.anaconda.org/conda-forge/win-64\n",
      "                          https://conda.anaconda.org/conda-forge/noarch\n",
      "          package cache : C:\\Users\\user\\anaconda3\\pkgs\n",
      "                          C:\\Users\\user\\.conda\\pkgs\n",
      "                          C:\\Users\\user\\AppData\\Local\\conda\\conda\\pkgs\n",
      "       envs directories : C:\\Users\\user\\anaconda3\\envs\n",
      "                          C:\\Users\\user\\.conda\\envs\n",
      "                          C:\\Users\\user\\AppData\\Local\\conda\\conda\\envs\n",
      "               platform : win-64\n",
      "             user-agent : conda/4.13.0 requests/2.28.1 CPython/3.9.12 Windows/10 Windows/10.0.22000\n",
      "          administrator : False\n",
      "             netrc file : None\n",
      "           offline mode : False\n",
      "\n"
     ]
    }
   ],
   "source": [
    "!conda info\n"
   ]
  },
  {
   "cell_type": "code",
   "execution_count": 3,
   "metadata": {
    "executionInfo": {
     "elapsed": 3813,
     "status": "ok",
     "timestamp": 1657593684575,
     "user": {
      "displayName": "인비즈",
      "userId": "14842033852642997881"
     },
     "user_tz": -540
    },
    "id": "mBcDbQ7LPz74"
   },
   "outputs": [],
   "source": [
    "from tflite_support import flatbuffers\n",
    "from tflite_support import metadata as _metadata\n",
    "from tflite_support import metadata_schema_py_generated as _metadata_fb"
   ]
  },
  {
   "cell_type": "code",
   "execution_count": 2,
   "metadata": {
    "executionInfo": {
     "elapsed": 2,
     "status": "ok",
     "timestamp": 1657593677134,
     "user": {
      "displayName": "인비즈",
      "userId": "14842033852642997881"
     },
     "user_tz": -540
    },
    "id": "zlnoRX_QSDLO"
   },
   "outputs": [],
   "source": [
    "import os"
   ]
  },
  {
   "cell_type": "code",
   "execution_count": 1,
   "metadata": {
    "executionInfo": {
     "elapsed": 9,
     "status": "ok",
     "timestamp": 1657593110995,
     "user": {
      "displayName": "인비즈",
      "userId": "14842033852642997881"
     },
     "user_tz": -540
    },
    "id": "zkkYQiR6Pz-f"
   },
   "outputs": [],
   "source": [
    "# Creates model info.\n",
    "model_meta = _metadata_fb.ModelMetadataT()\n",
    "model_meta.name = \"Facial Expression Classification\"\n",
    "model_meta.description = (\"Identify Facial Expression\")\n",
    "model_meta.version = \"v1\"\n",
    "model_meta.author = \"JH@Inviz\"\n",
    "model_meta.license = (\"Apache License. Version 2.0 \"\n",
    "                      \"http://www.apache.org/licenses/LICENSE-2.0.\")"
   ]
  },
  {
   "cell_type": "code",
   "execution_count": 1,
   "metadata": {
    "executionInfo": {
     "elapsed": 9,
     "status": "ok",
     "timestamp": 1657593110995,
     "user": {
      "displayName": "인비즈",
      "userId": "14842033852642997881"
     },
     "user_tz": -540
    },
    "id": "WRLhBrnsP0A-"
   },
   "outputs": [],
   "source": [
    "# 입력정보\n",
    "input_meta = _metadata_fb.TensorMetadataT()\n",
    "input_meta.name = \"image\"\n",
    "input_meta.content = _metadata_fb.ContentT()\n",
    "input_meta.content.contentProperties = _metadata_fb.ImagePropertiesT()\n",
    "input_meta.content.contentProperties.colorSpace = (\n",
    "    _metadata_fb.ColorSpaceType.RGB)\n",
    "input_meta.content.contentPropertiesType = (\n",
    "    _metadata_fb.ContentProperties.ImageProperties)\n",
    "input_normalization = _metadata_fb.ProcessUnitT()\n",
    "input_normalization.optionsType = (\n",
    "    _metadata_fb.ProcessUnitOptions.NormalizationOptions)\n",
    "input_normalization.options = _metadata_fb.NormalizationOptionsT()\n",
    "input_normalization.options.mean = [127.5]\n",
    "input_normalization.options.std = [127.5]\n",
    "input_meta.processUnits = [input_normalization]\n",
    "input_stats = _metadata_fb.StatsT()\n",
    "input_stats.max = [255]\n",
    "input_stats.min = [0]\n",
    "input_meta.stats = input_stats"
   ]
  },
  {
   "cell_type": "code",
   "execution_count": 1,
   "metadata": {
    "executionInfo": {
     "elapsed": 10,
     "status": "ok",
     "timestamp": 1657593110996,
     "user": {
      "displayName": "인비즈",
      "userId": "14842033852642997881"
     },
     "user_tz": -540
    },
    "id": "zXq0_lfhP0DW"
   },
   "outputs": [],
   "source": [
    "# 출력정보\n",
    "output_meta = _metadata_fb.TensorMetadataT()\n",
    "output_meta = _metadata_fb.TensorMetadataT()\n",
    "output_meta.name = \"probability\"\n",
    "output_meta.description = \"Probabilities of the 1001 labels respectively.\"\n",
    "output_meta.content = _metadata_fb.ContentT()\n",
    "output_meta.content.content_properties = _metadata_fb.FeaturePropertiesT()\n",
    "output_meta.content.contentPropertiesType = (\n",
    "    _metadata_fb.ContentProperties.FeatureProperties)\n",
    "output_stats = _metadata_fb.StatsT()\n",
    "output_stats.max = [1.0]\n",
    "output_stats.min = [0.0]\n",
    "output_meta.stats = output_stats\n",
    "label_file = _metadata_fb.AssociatedFileT()\n",
    "label_file.name = os.path.basename(\"your_path_to_label_file\")#####################################################\n",
    "label_file.description = \"Score of Expression.\"\n",
    "label_file.type = _metadata_fb.AssociatedFileType.TENSOR_AXIS_LABELS\n",
    "output_meta.associatedFiles = [label_file]"
   ]
  },
  {
   "cell_type": "code",
   "execution_count": 1,
   "metadata": {
    "executionInfo": {
     "elapsed": 9,
     "status": "ok",
     "timestamp": 1657593110996,
     "user": {
      "displayName": "인비즈",
      "userId": "14842033852642997881"
     },
     "user_tz": -540
    },
    "id": "ZQGKJx_7P0Fu"
   },
   "outputs": [],
   "source": [
    "# 플랫버퍼 생성\n",
    "subgraph = _metadata_fb.SubGraphMetadataT()\n",
    "subgraph.inputTensorMetadata = [input_meta]\n",
    "subgraph.outputTensorMetadata = [output_meta]\n",
    "model_meta.subgraphMetadata = [subgraph]\n",
    "\n",
    "b = flatbuffers.Builder(0)\n",
    "b.Finish(\n",
    "    model_meta.Pack(b),\n",
    "    _metadata.MetadataPopulator.METADATA_FILE_IDENTIFIER)\n",
    "metadata_buf = b.Output()"
   ]
  },
  {
   "cell_type": "code",
   "execution_count": 1,
   "metadata": {
    "executionInfo": {
     "elapsed": 9,
     "status": "ok",
     "timestamp": 1657593110996,
     "user": {
      "displayName": "인비즈",
      "userId": "14842033852642997881"
     },
     "user_tz": -540
    },
    "id": "VgC3ZnW2P0H6"
   },
   "outputs": [],
   "source": [
    "populator = _metadata.MetadataPopulator.with_model_file(model_file)\n",
    "populator.load_metadata_buffer(metadata_buf)\n",
    "populator.load_associated_files([\"your_path_to_label_file\"])############################\n",
    "populator.populate()"
   ]
  },
  {
   "cell_type": "code",
   "execution_count": 1,
   "metadata": {
    "executionInfo": {
     "elapsed": 9,
     "status": "ok",
     "timestamp": 1657593110996,
     "user": {
      "displayName": "인비즈",
      "userId": "14842033852642997881"
     },
     "user_tz": -540
    },
    "id": "1Ts0ANL4P0KH"
   },
   "outputs": [],
   "source": []
  },
  {
   "cell_type": "code",
   "execution_count": 1,
   "metadata": {
    "executionInfo": {
     "elapsed": 9,
     "status": "ok",
     "timestamp": 1657593110997,
     "user": {
      "displayName": "인비즈",
      "userId": "14842033852642997881"
     },
     "user_tz": -540
    },
    "id": "7IoDwy_EP0Mm"
   },
   "outputs": [],
   "source": []
  },
  {
   "cell_type": "code",
   "execution_count": 1,
   "metadata": {
    "executionInfo": {
     "elapsed": 9,
     "status": "ok",
     "timestamp": 1657593110997,
     "user": {
      "displayName": "인비즈",
      "userId": "14842033852642997881"
     },
     "user_tz": -540
    },
    "id": "22chRF5gP0O-"
   },
   "outputs": [],
   "source": []
  },
  {
   "cell_type": "code",
   "execution_count": 1,
   "metadata": {
    "executionInfo": {
     "elapsed": 9,
     "status": "ok",
     "timestamp": 1657593110997,
     "user": {
      "displayName": "인비즈",
      "userId": "14842033852642997881"
     },
     "user_tz": -540
    },
    "id": "ZCXTtDdsP0RP"
   },
   "outputs": [],
   "source": []
  },
  {
   "cell_type": "code",
   "execution_count": 1,
   "metadata": {
    "executionInfo": {
     "elapsed": 9,
     "status": "ok",
     "timestamp": 1657593110997,
     "user": {
      "displayName": "인비즈",
      "userId": "14842033852642997881"
     },
     "user_tz": -540
    },
    "id": "YdgJMveZP0Tu"
   },
   "outputs": [],
   "source": []
  },
  {
   "cell_type": "code",
   "execution_count": 1,
   "metadata": {
    "executionInfo": {
     "elapsed": 8,
     "status": "ok",
     "timestamp": 1657593110997,
     "user": {
      "displayName": "인비즈",
      "userId": "14842033852642997881"
     },
     "user_tz": -540
    },
    "id": "9ad93eqJP0WH"
   },
   "outputs": [],
   "source": []
  },
  {
   "cell_type": "code",
   "execution_count": null,
   "metadata": {
    "id": "aEcl28IeP0Ye"
   },
   "outputs": [],
   "source": []
  }
 ],
 "metadata": {
  "colab": {
   "authorship_tag": "ABX9TyNBQX1pY7A8KlMqNmxWVl6F",
   "name": "addProbilityMetaData.ipynb",
   "provenance": []
  },
  "kernelspec": {
   "display_name": "Python 3 (ipykernel)",
   "language": "python",
   "name": "python3"
  },
  "language_info": {
   "codemirror_mode": {
    "name": "ipython",
    "version": 3
   },
   "file_extension": ".py",
   "mimetype": "text/x-python",
   "name": "python",
   "nbconvert_exporter": "python",
   "pygments_lexer": "ipython3",
   "version": "3.9.12"
  }
 },
 "nbformat": 4,
 "nbformat_minor": 1
}
