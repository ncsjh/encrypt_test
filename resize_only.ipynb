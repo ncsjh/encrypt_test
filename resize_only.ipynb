{
 "cells": [
  {
   "cell_type": "code",
   "execution_count": 4,
   "metadata": {
    "id": "sP6vmNM_WmXO"
   },
   "outputs": [],
   "source": [
    "import os\n",
    "import shutil\n",
    "import numpy as np\n",
    "from glob import glob\n",
    "from PIL import Image, ImageFile\n",
    "ImageFile.LOAD_TRUNCATED_IMAGES = True"
   ]
  },
  {
   "cell_type": "code",
   "execution_count": 6,
   "metadata": {
    "colab": {
     "base_uri": "https://localhost:8080/"
    },
    "executionInfo": {
     "elapsed": 821,
     "status": "ok",
     "timestamp": 1658100569596,
     "user": {
      "displayName": "인비즈",
      "userId": "14842033852642997881"
     },
     "user_tz": -540
    },
    "id": "0slHuKyBWqu5",
    "outputId": "23f72c84-6d3d-4701-faac-1c16042bc37c"
   },
   "outputs": [],
   "source": [
    "cls=os.listdir('./FacialClassification/')\n",
    "cls.remove('.ipynb_checkpoints')"
   ]
  },
  {
   "cell_type": "code",
   "execution_count": 7,
   "metadata": {
    "colab": {
     "background_save": true,
     "base_uri": "https://localhost:8080/"
    },
    "id": "kU0ugjLPWqxJ"
   },
   "outputs": [
    {
     "name": "stdout",
     "output_type": "stream",
     "text": [
      "경로 : ./FacialClassification/기쁨/\n",
      "기쁨 폴더 내 파일 불러오기\n",
      "기쁨 폴더 내 파일 리사이즈 시작\n",
      " 100 %    581 / 581 Thumbs.db83ec70a2a46c3d86f725a131f59fb7e9f89863fbb0060521e2aebb_여_20_기쁨_행사&사무공간_20210120115744-006-004.jpgpgg019.jpg7 / 581 0cebc58b878df61c71de8e92bf181af059fe272b432e0ff5bab15d4aa12504f6_여_20_기쁨_숙박 및 거주공간_20201202162128-010-006.jpg    50 / 581 22c75cb2e5e764cba542fe814f4c16f85df2354cfc794197f502f77e18167bb7_여_20_기쁨_숙박 및 거주공간_20210225172905-010-007.jpeg   283 / 581 67c256e3c79a80d90781381ec96500c1c3e4a488dfa0f2663123747e84838f20_여_40_기쁨_행사&사무공간_20210127164914-006-004.jpg 581 8be437645d02eee9dddd2cccda6657c3a08e162cdb36b7a9a9c76473582cbb30_남_20_기쁨_교통&이동수단(엘리베이터 포함)_20210126212344-002-009.jpg aca63369722fd9d13631d053111447931432831568b6eeded7eaaaf0c753aaa4_남_20_기쁨_도심 환경_20210129114055-008-013.jpg425 / 581 b768f8ff0fcc1690b9a89daa4468c5ee97771165c41346509c776a1205ee9993_남_20_기쁨_도심 환경_20210204183710-008-006.jpgThumbs.db  파일에서 문제가 발생했습니다.\n",
      " 100 %    581 / 581 Thumbs.db경로 : ./FacialClassification/당황/\n",
      "당황 폴더 내 파일 불러오기\n",
      "당황 폴더 내 파일 리사이즈 시작\n",
      " 100 %    551 / 551 Thumbs.dbThumbs.db  파일에서 문제가 발생했습니다.fb7e9f89863fbb0060521e2aebb_여_20_당황_행사&사무공간_20210120121050-006-004.jpgpgg020.jpg1 %    117 / 551 2aa6b196295318f895d82db48aa037669ef6d7e1a430e300d40dcf47e8712274_여_20_당황_오락&공연시설_20201203185313-005-016.jpg2b69d97fbf9eab1da334021e7dd1352903907c88f84640d859cbdce1263ced5c_남_20_당황_공공시설&종교&의료시설_20210120145304-001-001.jpg 551 67c256e3c79a80d90781381ec96500c1c3e4a488dfa0f2663123747e84838f20_여_40_당황_실외 자연환경_20210127171119-007-014.jpg 8be437645d02eee9dddd2cccda6657c3a08e162cdb36b7a9a9c76473582cbb30_남_20_당황_교통&이동수단(엘리베이터 포함)_20210126214607-002-001.jpg 551 aca63369722fd9d13631d053111447931432831568b6eeded7eaaaf0c753aaa4_남_20_당황_공공시설&종교&의료시설_20210129114924-001-008.jpg aca63369722fd9d13631d053111447931432831568b6eeded7eaaaf0c753aaa4_남_20_당황_도심 환경_20210129115011-008-006.jpg\n",
      " 100 %    551 / 551 Thumbs.db경로 : ./FacialClassification/분노/\n",
      "분노 폴더 내 파일 불러오기\n",
      "분노 폴더 내 파일 리사이즈 시작\n",
      " 100 %    580 / 580 fe5faafa4983ec70a2a46c3d86f725a131f59fb7e9f89863fbb0060521e2aebb_여_20_분노_행사&사무공간_20210120121807-006-003.jpg경로 : ./FacialClassification/불안/8df61c71de8e92bf181af059fe272b432e0ff5bab15d4aa12504f6_여_20_분노_오락&공연시설_20201202155532-005-004.jpg/ 580 e10c6634bc727f46e79ccde300fcf949df69a3634659444e098016d7323871dc_남_20_분노_숙박 및 거주공간_20201207011240-010-019.jpg510 / 580 e10c6634bc727f46e79ccde300fcf949df69a3634659444e098016d7323871dc_남_20_분노_스포츠 관람 및 레저시설_20201207011153-004-002.jpg\n",
      "불안 폴더 내 파일 불러오기\n",
      "불안 폴더 내 파일 리사이즈 시작\n",
      " 100 %    567 / 567 fe5faafa4983ec70a2a46c3d86f725a131f59fb7e9f89863fbb0060521e2aebb_여_20_불안_행사&사무공간_20210120121356-006-004.jpg경로 : ./FacialClassification/상처/31898eb031aece3cd1e7825531d841730daefade73_여_20_불안_상업시설&점포&시장_20201206202927-003-042.jpg 147 / 567 2b69d97fbf9eab1da334021e7dd1352903907c88f84640d859cbdce1263ced5c_남_20_불안_숙박 및 거주공간_20210120145517-010-020.jpg / 567 2b69d97fbf9eab1da334021e7dd1352903907c88f84640d859cbdce1263ced5c_남_20_불안_숙박 및 거주공간_20210120145517-010-028.jpg164 / 567 36f3d025faf2e87a1c5e83c4b5c36964d2c80fb29a1d29739cb5ad1656386f99_남_20_불안_공공시설&종교&의료시설_20210121110612-001-002.jpg/ 567 67c256e3c79a80d90781381ec96500c1c3e4a488dfa0f2663123747e84838f20_여_40_불안_상업시설&점포&시장_20210127171325-003-004.jpg\n",
      "상처 폴더 내 파일 불러오기\n",
      "상처 폴더 내 파일 리사이즈 시작\n",
      " 100 %    581 / 581 Thumbs.db83ec70a2a46c3d86f725a131f59fb7e9f89863fbb0060521e2aebb_여_20_상처_행사&사무공간_20210120120329-006-002.jpgpgg017.jpg   477 / 581 e10c6634bc727f46e79ccde300fcf949df69a3634659444e098016d7323871dc_남_20_상처_도심 환경_20201207011609-008-006.jpgThumbs.db  파일에서 문제가 발생했습니다.\n",
      " 100 %    581 / 581 Thumbs.db경로 : ./FacialClassification/슬픔/\n",
      "슬픔 폴더 내 파일 불러오기\n",
      "슬픔 폴더 내 파일 리사이즈 시작\n",
      " 100 %    580 / 580 fe5faafa4983ec70a2a46c3d86f725a131f59fb7e9f89863fbb0060521e2aebb_여_20_슬픔_행사&사무공간_20210120120715-006-005.jpggg021.jpg80 2aa6b196295318f895d82db48aa037669ef6d7e1a430e300d40dcf47e8712274_여_20_슬픔_오락&공연시설_20201203184311-005-014.jpg%    207 / 580 57d38f3381d48c059124ebf8b1ea1342451537c32b4825edd3dfbbb8f0c7b1b1_여_20_슬픔_행사&사무공간_20210126080924-006-003.jpg 580 aca63369722fd9d13631d053111447931432831568b6eeded7eaaaf0c753aaa4_남_20_슬픔_공공시설&종교&의료시설_20210129114237-001-009.jpg 580 b768f8ff0fcc1690b9a89daa4468c5ee97771165c41346509c776a1205ee9993_남_20_슬픔_실외 자연환경_20210204184230-007-003.jpg   438 / 580 ba2bd377a6632cc58e86d52379693aaece19b69ed49851b171c500b42f397ed5_남_20_슬픔_상업시설&점포&시장_20201207022903-003-043.jpg580 e10c6634bc727f46e79ccde300fcf949df69a3634659444e098016d7323871dc_남_20_슬픔_스포츠 관람 및 레저시설_20201207011322-004-003.jpg경로 : ./FacialClassification/중립/\n",
      "중립 폴더 내 파일 불러오기\n",
      "중립 폴더 내 파일 리사이즈 시작\n",
      " 100 %    601 / 601 Thumbs.db83ec70a2a46c3d86f725a131f59fb7e9f89863fbb0060521e2aebb_여_20_중립_행사&사무공간_20210120122346-006-005.jpgpgg021.jpg / 601 67c256e3c79a80d90781381ec96500c1c3e4a488dfa0f2663123747e84838f20_여_40_중립_상업시설&점포&시장_20210127171715-003-001.jpg / 601 8be437645d02eee9dddd2cccda6657c3a08e162cdb36b7a9a9c76473582cbb30_남_20_중립_실외 자연환경_20210126215411-007-006.jpg 356 / 601 aca63369722fd9d13631d053111447931432831568b6eeded7eaaaf0c753aaa4_남_20_중립_상업시설&점포&시장_20210129115417-003-001.jpg bd210c67f8f6d1d3b34e1f724f26a0460a5e683af5c500b8acacc8be9af35db0_여_20_중립_상업시설&점포&시장_20210210223903-003-014.jpgThumbs.db  파일에서 문제가 발생했습니다.\n",
      " 100 %    601 / 601 Thumbs.db"
     ]
    }
   ],
   "source": [
    "for cl in cls:\n",
    "    path=f'./FacialClassification/{cl}/'\n",
    "    print(f'경로 : {path}')\n",
    "    print(f'{cl} 폴더 내 파일 불러오기')\n",
    "    li=os.listdir(path)\n",
    "    print(f'{cl} 폴더 내 파일 리사이즈 시작')\n",
    "    w=len(li)\n",
    "    c=0\n",
    "    if cl=='분노':\n",
    "        for file in li[46656:]:\n",
    "            try:\n",
    "                c+=1\n",
    "                print('\\r', int(c/w*100),'%', '  ', c,'/',w, file, end='')\n",
    "                dest=path+file\n",
    "                img=Image.open(dest)\n",
    "                img=img.resize((600,600))\n",
    "                img.save(dest)\n",
    "            except:\n",
    "                print(file, ' 파일에서 문제가 발생했습니다.')\n",
    "                print('\\r', int(c/w*100),'%', '  ', c,'/',w, file, end='')\n",
    "    else : \n",
    "        for file in li:\n",
    "            try:\n",
    "                c+=1\n",
    "                print('\\r', int(c/w*100),'%', '  ', c,'/',w, file, end='')\n",
    "                dest=path+file\n",
    "                img=Image.open(dest)\n",
    "                img=img.resize((600,600))\n",
    "                img.save(dest)\n",
    "            except:\n",
    "                print(file, ' 파일에서 문제가 발생했습니다.')\n",
    "                print('\\r', int(c/w*100),'%', '  ', c,'/',w, file, end='')"
   ]
  },
  {
   "cell_type": "code",
   "execution_count": null,
   "metadata": {
    "id": "8WupgY0lZx-q"
   },
   "outputs": [],
   "source": [
    "cls=['기쁨','당황','불안','상처']\n"
   ]
  },
  {
   "cell_type": "code",
   "execution_count": null,
   "metadata": {
    "colab": {
     "base_uri": "https://localhost:8080/"
    },
    "executionInfo": {
     "elapsed": 2,
     "status": "ok",
     "timestamp": 1657585222344,
     "user": {
      "displayName": "인비즈",
      "userId": "14842033852642997881"
     },
     "user_tz": -540
    },
    "id": "ubcvskxXWq5H",
    "outputId": "a6981828-1141-45b0-ceca-20e3f1372e15"
   },
   "outputs": [
    {
     "data": {
      "text/plain": [
       "['분노', '슬픔']"
      ]
     },
     "execution_count": 9,
     "metadata": {},
     "output_type": "execute_result"
    }
   ],
   "source": []
  },
  {
   "cell_type": "code",
   "execution_count": null,
   "metadata": {
    "colab": {
     "base_uri": "https://localhost:8080/"
    },
    "executionInfo": {
     "elapsed": 2,
     "status": "ok",
     "timestamp": 1657583682399,
     "user": {
      "displayName": "인비즈",
      "userId": "14842033852642997881"
     },
     "user_tz": -540
    },
    "id": "271FUXwmWq5o",
    "outputId": "79065e41-e8f2-4597-dc32-9d24a3d73ec6"
   },
   "outputs": [
    {
     "data": {
      "text/plain": [
       "['슬픔']"
      ]
     },
     "execution_count": 14,
     "metadata": {},
     "output_type": "execute_result"
    }
   ],
   "source": []
  },
  {
   "cell_type": "code",
   "execution_count": null,
   "metadata": {
    "colab": {
     "base_uri": "https://localhost:8080/"
    },
    "executionInfo": {
     "elapsed": 4903,
     "status": "ok",
     "timestamp": 1657583925732,
     "user": {
      "displayName": "인비즈",
      "userId": "14842033852642997881"
     },
     "user_tz": -540
    },
    "id": "Nel2UfTSWq6J",
    "outputId": "258e1920-9b1d-4316-b4d3-8f9c30c77fde"
   },
   "outputs": [
    {
     "name": "stdout",
     "output_type": "stream",
     "text": [
      " 9"
     ]
    }
   ],
   "source": [
    "\n"
   ]
  },
  {
   "cell_type": "code",
   "execution_count": null,
   "metadata": {
    "id": "c6k-YQ0LWq71"
   },
   "outputs": [],
   "source": []
  },
  {
   "cell_type": "code",
   "execution_count": null,
   "metadata": {
    "id": "sNLhzaqMWq8Q"
   },
   "outputs": [],
   "source": []
  },
  {
   "cell_type": "code",
   "execution_count": null,
   "metadata": {
    "id": "Kdr2g-VrWq8w"
   },
   "outputs": [],
   "source": []
  },
  {
   "cell_type": "code",
   "execution_count": null,
   "metadata": {
    "id": "RwslRuY_Wq9N"
   },
   "outputs": [],
   "source": []
  },
  {
   "cell_type": "code",
   "execution_count": null,
   "metadata": {
    "id": "rD2cGI0bWq9q"
   },
   "outputs": [],
   "source": []
  },
  {
   "cell_type": "code",
   "execution_count": null,
   "metadata": {
    "id": "EdVA44L0Wq-O"
   },
   "outputs": [],
   "source": []
  },
  {
   "cell_type": "code",
   "execution_count": null,
   "metadata": {
    "id": "NX4ctZzqWq-3"
   },
   "outputs": [],
   "source": []
  },
  {
   "cell_type": "code",
   "execution_count": null,
   "metadata": {
    "id": "VrS7xZ1DWq_h"
   },
   "outputs": [],
   "source": []
  },
  {
   "cell_type": "code",
   "execution_count": null,
   "metadata": {
    "id": "7ABOgvVUWq__"
   },
   "outputs": [],
   "source": []
  },
  {
   "cell_type": "code",
   "execution_count": null,
   "metadata": {
    "id": "jNRqucf_WrAb"
   },
   "outputs": [],
   "source": []
  },
  {
   "cell_type": "code",
   "execution_count": null,
   "metadata": {
    "id": "46rIIT1hWrA7"
   },
   "outputs": [],
   "source": []
  },
  {
   "cell_type": "code",
   "execution_count": null,
   "metadata": {
    "id": "y0CK3spcWrBd"
   },
   "outputs": [],
   "source": []
  }
 ],
 "metadata": {
  "colab": {
   "authorship_tag": "ABX9TyPmXDH0o9OK1tMNKgj6+0Ww",
   "background_execution": "on",
   "machine_shape": "hm",
   "mount_file_id": "15T8JhFeNSpdE2U7SNwI510GfHSCrIUxP",
   "name": "resize_only.ipynb",
   "version": ""
  },
  "gpuClass": "standard",
  "kernelspec": {
   "display_name": "Python 3 (ipykernel)",
   "language": "python",
   "name": "python3"
  },
  "language_info": {
   "codemirror_mode": {
    "name": "ipython",
    "version": 3
   },
   "file_extension": ".py",
   "mimetype": "text/x-python",
   "name": "python",
   "nbconvert_exporter": "python",
   "pygments_lexer": "ipython3",
   "version": "3.9.12"
  }
 },
 "nbformat": 4,
 "nbformat_minor": 1
}
